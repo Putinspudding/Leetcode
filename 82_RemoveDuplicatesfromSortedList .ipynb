{
 "cells": [
  {
   "cell_type": "markdown",
   "metadata": {},
   "source": [
    "给定一个排序链表，删除所有含有重复数字的节点，只保留原始链表中 没有重复出现 的数字。\n",
    "\n",
    "示例 1:\n",
    "\n",
    "输入: 1->2->3->3->4->4->5\n",
    "输出: 1->2->5\n",
    "示例 2:\n",
    "\n",
    "输入: 1->1->1->2->3\n",
    "输出: 2->3"
   ]
  },
  {
   "cell_type": "code",
   "execution_count": null,
   "metadata": {},
   "outputs": [],
   "source": [
    "# Definition for singly-linked list.\n",
    "class ListNode:\n",
    "    def __init__(self, x):\n",
    "        self.val = x\n",
    "        self.next = None\n",
    "\n",
    "class Solution:         \n",
    "    def deleteDuplicates(self, head: ListNode) -> ListNode:\n",
    "        compare = head.val\n",
    "        prev = 0\n",
    "        result = ListNode(None)\n",
    "        temp = result \n",
    "        while head.next:\n",
    "            if head.next.val == compare:\n",
    "                head = head.next\n",
    "                continue\n",
    "            if head.next.val != compare and prev == 0:\n",
    "                temp.next = head\n",
    "                temp = temp.next\n",
    "                compare = head.next.val\n",
    "                head = head.next\n",
    "                continue\n",
    "            if head.next.val != compare and prev == 1:\n",
    "                compare = head.next.val\n",
    "                head = head.next\n",
    "                continue\n",
    "        return result.next\n",
    "                    \n",
    "a = Solution()\n",
    "\n"
   ]
  }
 ],
 "metadata": {
  "kernelspec": {
   "display_name": "Python 3",
   "language": "python",
   "name": "python3"
  },
  "language_info": {
   "codemirror_mode": {
    "name": "ipython",
    "version": 3
   },
   "file_extension": ".py",
   "mimetype": "text/x-python",
   "name": "python",
   "nbconvert_exporter": "python",
   "pygments_lexer": "ipython3",
   "version": "3.7.2"
  }
 },
 "nbformat": 4,
 "nbformat_minor": 2
}
