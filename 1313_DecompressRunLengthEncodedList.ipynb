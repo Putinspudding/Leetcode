{
 "cells": [
  {
   "cell_type": "markdown",
   "metadata": {},
   "source": [
    "给你一个以行程长度编码压缩的整数列表 nums 。\n",
    "\n",
    "考虑每对相邻的两个元素 [a, b] = [nums[2*i], nums[2*i+1]] （其中 i >= 0 ），每一对都表示解压后有 a 个值为 b 的元素。\n",
    "\n",
    "请你返回解压后的列表。\n",
    "\n",
    " \n",
    "\n",
    "示例：\n",
    "\n",
    "输入：nums = [1,2,3,4]\n",
    "输出：[2,4,4,4]\n",
    "解释：第一对 [1,2] 代表着 2 的出现频次为 1，所以生成数组 [2]。\n",
    "第二对 [3,4] 代表着 4 的出现频次为 3，所以生成数组 [4,4,4]。\n",
    "最后将它们串联到一起 [2] + [4,4,4,4] = [2,4,4,4]。\n",
    " \n",
    "\n",
    "提示：\n",
    "\n",
    "2 <= nums.length <= 100\n",
    "nums.length % 2 == 0\n",
    "1 <= nums[i] <= 100"
   ]
  },
  {
   "cell_type": "code",
   "execution_count": null,
   "metadata": {},
   "outputs": [],
   "source": [
    "class Solution:\n",
    "    def decompressRLElist(self, nums: List[int]) -> List[int]:\n",
    "        result = []\n",
    "        for i in range(0,len(nums),2):\n",
    "            result += nums[i]*[nums[i+1]]\n",
    "        return result"
   ]
  }
 ],
 "metadata": {
  "kernelspec": {
   "display_name": "Python 3",
   "language": "python",
   "name": "python3"
  },
  "language_info": {
   "codemirror_mode": {
    "name": "ipython",
    "version": 3
   },
   "file_extension": ".py",
   "mimetype": "text/x-python",
   "name": "python",
   "nbconvert_exporter": "python",
   "pygments_lexer": "ipython3",
   "version": "3.7.2"
  }
 },
 "nbformat": 4,
 "nbformat_minor": 2
}
