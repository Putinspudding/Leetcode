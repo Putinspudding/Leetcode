{
 "cells": [
  {
   "cell_type": "markdown",
   "metadata": {},
   "source": [
    "给定一棵二叉树，设计一个算法，创建含有某一深度上所有节点的链表（比如，若一棵树的深度为 D，则会创建出 D 个链表）。返回一个包含所有深度的链表的数组。"
   ]
  },
  {
   "cell_type": "code",
   "execution_count": null,
   "metadata": {},
   "outputs": [],
   "source": [
    "# Definition for a binary tree node.\n",
    "# class TreeNode:\n",
    "#     def __init__(self, x):\n",
    "#         self.val = x\n",
    "#         self.left = None\n",
    "#         self.right = None\n",
    "\n",
    "# Definition for singly-linked list.\n",
    "# class ListNode:\n",
    "#     def __init__(self, x):\n",
    "#         self.val = x\n",
    "#         self.next = None\n",
    "\n",
    "class Solution:\n",
    "    \n",
    "    result = []\n",
    "        \n",
    "    def change(self,root,num=1):\n",
    "        if num == 1:\n",
    "            self.result = []\n",
    "        if not root:\n",
    "            return\n",
    "        if len(self.result) <= num:\n",
    "            self.result += (num-len(self.result))*[None]\n",
    "            self.result.append(root.val)\n",
    "        else:\n",
    "            self.result[num] = root.val\n",
    "        self.change(root.left,2*num)\n",
    "        self.change(root.right,2*num+1)\n",
    "        \n",
    "    def listOfDepth(self, tree: TreeNode) -> List[ListNode]:\n",
    "        self.change(tree)\n",
    "        answer = []\n",
    "        i = 0\n",
    "        j = 1\n",
    "        head = ListNode(None)\n",
    "        while i < len(self.result):\n",
    "            if i >= 2*j:\n",
    "                j = 2*j\n",
    "                head = ListNode(None)\n",
    "            if not self.result[i]:\n",
    "                i += 1\n",
    "                continue\n",
    "            if head.val is None:\n",
    "                head.val = self.result[i]\n",
    "                answer.append(head)\n",
    "            else:\n",
    "                temp = ListNode(self.result[i])\n",
    "                head.next = temp\n",
    "                head = head.next\n",
    "            i += 1\n",
    "                \n",
    "        return answer"
   ]
  }
 ],
 "metadata": {
  "kernelspec": {
   "display_name": "Python 3",
   "language": "python",
   "name": "python3"
  },
  "language_info": {
   "codemirror_mode": {
    "name": "ipython",
    "version": 3
   },
   "file_extension": ".py",
   "mimetype": "text/x-python",
   "name": "python",
   "nbconvert_exporter": "python",
   "pygments_lexer": "ipython3",
   "version": "3.7.2"
  }
 },
 "nbformat": 4,
 "nbformat_minor": 2
}
