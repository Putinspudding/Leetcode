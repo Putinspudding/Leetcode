{
 "cells": [
  {
   "cell_type": "markdown",
   "metadata": {},
   "source": [
    "给定一个字符串S，检查是否能重新排布其中的字母，使得两相邻的字符不同。\n",
    "\n",
    "若可行，输出任意可行的结果。若不可行，返回空字符串。\n",
    "\n",
    "示例 1:\n",
    "\n",
    "输入: S = \"aab\"\n",
    "输出: \"aba\"\n",
    "示例 2:\n",
    "\n",
    "输入: S = \"aaab\"\n",
    "输出: \"\""
   ]
  },
  {
   "cell_type": "code",
   "execution_count": 33,
   "metadata": {},
   "outputs": [],
   "source": [
    "class Solution:\n",
    "    def reorganizeString(self, S: str) -> str:\n",
    "        characters = {}\n",
    "        for i in S:\n",
    "            if i in characters:\n",
    "                characters[i] = characters[i]+1\n",
    "            else:\n",
    "                characters[i] = 1\n",
    "        summary = sum(characters.values())\n",
    "        dd=sorted(characters.items(),key=lambda x:x[1],reverse=True)\n",
    "        for i in range(len(dd)):\n",
    "            dd[i] = list(dd[i])\n",
    "            \n",
    "        if dd[0][1] + dd[0][1] - 1 > summary:\n",
    "            return \"\"\n",
    "        \n",
    "        pre = None\n",
    "        result = \"\"\n",
    "        while dd:\n",
    "            if pre != dd[0][0]:\n",
    "                result += dd[0][0]\n",
    "                pre = dd[0][0]\n",
    "                dd[0][1] -= 1\n",
    "                if dd[0][1] == 0:\n",
    "                    del dd[0]\n",
    "            else:\n",
    "                result += dd[1][0]\n",
    "                pre = dd[1][0]\n",
    "                dd[1][1] -= 1\n",
    "                if dd[1][1] == 0:\n",
    "                    del dd[1]    \n",
    "            dd=sorted(dd,key=lambda x:x[1],reverse=True)\n",
    "        return result"
   ]
  },
  {
   "cell_type": "code",
   "execution_count": null,
   "metadata": {},
   "outputs": [],
   "source": []
  }
 ],
 "metadata": {
  "kernelspec": {
   "display_name": "Python 3",
   "language": "python",
   "name": "python3"
  },
  "language_info": {
   "codemirror_mode": {
    "name": "ipython",
    "version": 3
   },
   "file_extension": ".py",
   "mimetype": "text/x-python",
   "name": "python",
   "nbconvert_exporter": "python",
   "pygments_lexer": "ipython3",
   "version": "3.7.2"
  }
 },
 "nbformat": 4,
 "nbformat_minor": 2
}
