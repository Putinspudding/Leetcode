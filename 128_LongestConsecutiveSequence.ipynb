{
 "cells": [
  {
   "cell_type": "markdown",
   "metadata": {},
   "source": [
    "给定一个未排序的整数数组，找出最长连续序列的长度。\n",
    "\n",
    "要求算法的时间复杂度为 O(n)。\n",
    "\n",
    "示例:\n",
    "\n",
    "输入: [100, 4, 200, 1, 3, 2]\n",
    "输出: 4\n",
    "解释: 最长连续序列是 [1, 2, 3, 4]。它的长度为 4。\n"
   ]
  },
  {
   "cell_type": "code",
   "execution_count": 2,
   "metadata": {},
   "outputs": [],
   "source": [
    "class Solution:\n",
    "    def longestConsecutive(self, nums) -> int:\n",
    "        maxlength = 0\n",
    "        length = 0\n",
    "        if nums==[]:\n",
    "            return 0\n",
    "        nums.sort()\n",
    "        for i in range(len(nums)-1):\n",
    "            if nums[i]+1==nums[i+1]:\n",
    "                break\n",
    "            if i == len(nums)-1:\n",
    "                return 0\n",
    "        for i in range(len(nums)-1):\n",
    "            if nums[i] == nums[i+1]:\n",
    "                continue\n",
    "            if nums[i]+1==nums[i+1]:\n",
    "                length = length + 1\n",
    "                if length>maxlength:\n",
    "                    maxlength = length\n",
    "            else:\n",
    "                length = 0\n",
    "        return maxlength+1"
   ]
  },
  {
   "cell_type": "code",
   "execution_count": null,
   "metadata": {},
   "outputs": [],
   "source": []
  }
 ],
 "metadata": {
  "kernelspec": {
   "display_name": "Python 3",
   "language": "python",
   "name": "python3"
  },
  "language_info": {
   "codemirror_mode": {
    "name": "ipython",
    "version": 3
   },
   "file_extension": ".py",
   "mimetype": "text/x-python",
   "name": "python",
   "nbconvert_exporter": "python",
   "pygments_lexer": "ipython3",
   "version": "3.7.2"
  }
 },
 "nbformat": 4,
 "nbformat_minor": 2
}
