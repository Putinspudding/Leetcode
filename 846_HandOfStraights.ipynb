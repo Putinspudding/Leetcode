{
 "cells": [
  {
   "cell_type": "markdown",
   "metadata": {},
   "source": [
    "爱丽丝有一手（hand）由整数数组给定的牌。 \n",
    "\n",
    "现在她想把牌重新排列成组，使得每个组的大小都是 W，且由 W 张连续的牌组成。\n",
    "\n",
    "如果她可以完成分组就返回 true，否则返回 false。"
   ]
  },
  {
   "cell_type": "code",
   "execution_count": null,
   "metadata": {},
   "outputs": [],
   "source": [
    "import collections\n",
    "class Solution:\n",
    "    def isNStraightHand(self, hand: List[int], W: int) -> bool:\n",
    "        if len(hand) % W != 0:\n",
    "            return False\n",
    "        cod = collections.OrderedDict()\n",
    "        hand = sorted(hand)\n",
    "        for i in hand:\n",
    "            if i in cod:\n",
    "                cod[i] += 1\n",
    "            else:\n",
    "                cod[i] = 1\n",
    "        for j in cod:\n",
    "            while cod[j]>0:\n",
    "                for k in range(W):\n",
    "                    if j+k in cod:\n",
    "                        cod[j+k] -= 1\n",
    "                    else:\n",
    "                        return False\n",
    "        return True"
   ]
  }
 ],
 "metadata": {
  "kernelspec": {
   "display_name": "Python 3",
   "language": "python",
   "name": "python3"
  },
  "language_info": {
   "codemirror_mode": {
    "name": "ipython",
    "version": 3
   },
   "file_extension": ".py",
   "mimetype": "text/x-python",
   "name": "python",
   "nbconvert_exporter": "python",
   "pygments_lexer": "ipython3",
   "version": "3.7.2"
  }
 },
 "nbformat": 4,
 "nbformat_minor": 2
}
