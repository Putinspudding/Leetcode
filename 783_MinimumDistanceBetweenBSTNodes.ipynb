{
 "cells": [
  {
   "cell_type": "markdown",
   "metadata": {},
   "source": [
    "给定一个二叉搜索树的根结点 root, 返回树中任意两节点的差的最小值。"
   ]
  },
  {
   "cell_type": "code",
   "execution_count": null,
   "metadata": {},
   "outputs": [],
   "source": [
    "# Definition for a binary tree node.\n",
    "# class TreeNode:\n",
    "#     def __init__(self, x):\n",
    "#         self.val = x\n",
    "#         self.left = None\n",
    "#         self.right = None\n",
    "class Solution:\n",
    "    result = []\n",
    "    def browser(self,root:TreeNode,num = 0):\n",
    "        if num == 0:\n",
    "            self.result = []\n",
    "        if root is not None:\n",
    "            self.browser(root.left,1)\n",
    "            self.result.append(root.val)\n",
    "            self.browser(root.right,1)\n",
    "            \n",
    "    def minDiffInBST(self, root: TreeNode) -> int:\n",
    "        self.browser(root)\n",
    "        if not self.result:\n",
    "            return None\n",
    "        compare = []\n",
    "        for i in range(0,len(self.result)-1):\n",
    "            compare.append(self.result[i+1]-self.result[i])\n",
    "        min = compare[0]\n",
    "        for j in compare:\n",
    "            if j<min:\n",
    "                min = j\n",
    "        return min"
   ]
  }
 ],
 "metadata": {
  "kernelspec": {
   "display_name": "Python 3",
   "language": "python",
   "name": "python3"
  },
  "language_info": {
   "codemirror_mode": {
    "name": "ipython",
    "version": 3
   },
   "file_extension": ".py",
   "mimetype": "text/x-python",
   "name": "python",
   "nbconvert_exporter": "python",
   "pygments_lexer": "ipython3",
   "version": "3.7.2"
  }
 },
 "nbformat": 4,
 "nbformat_minor": 2
}
